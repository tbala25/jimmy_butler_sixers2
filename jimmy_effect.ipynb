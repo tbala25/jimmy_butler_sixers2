{
 "cells": [
  {
   "cell_type": "code",
   "execution_count": 1,
   "metadata": {},
   "outputs": [],
   "source": [
    "import pandas as pd\n",
    "# Libraries\n",
    "import matplotlib.pyplot as plt\n",
    "import pandas as pd\n",
    "from math import pi"
   ]
  },
  {
   "cell_type": "code",
   "execution_count": 5,
   "metadata": {
    "scrolled": false
   },
   "outputs": [
    {
     "ename": "UnicodeDecodeError",
     "evalue": "'utf-8' codec can't decode byte 0xa0 in position 3: invalid start byte",
     "output_type": "error",
     "traceback": [
      "\u001b[1;31m---------------------------------------------------------------------------\u001b[0m",
      "\u001b[1;31mUnicodeDecodeError\u001b[0m                        Traceback (most recent call last)",
      "\u001b[1;32m<ipython-input-5-a794a31b8f2c>\u001b[0m in \u001b[0;36m<module>\u001b[1;34m\u001b[0m\n\u001b[1;32m----> 1\u001b[1;33m \u001b[0msixers\u001b[0m \u001b[1;33m=\u001b[0m \u001b[0mpd\u001b[0m\u001b[1;33m.\u001b[0m\u001b[0mread_csv\u001b[0m\u001b[1;33m(\u001b[0m\u001b[1;34m\"sixers-advanced.csv\"\u001b[0m\u001b[1;33m)\u001b[0m\u001b[1;33m\u001b[0m\u001b[0m\n\u001b[0m\u001b[0;32m      2\u001b[0m \u001b[0mdisplay\u001b[0m\u001b[1;33m(\u001b[0m\u001b[0msixers\u001b[0m\u001b[1;33m)\u001b[0m\u001b[1;33m\u001b[0m\u001b[0m\n\u001b[0;32m      3\u001b[0m \u001b[1;33m\u001b[0m\u001b[0m\n\u001b[0;32m      4\u001b[0m \u001b[1;31m#sixers_new = sixers[['Player','Team','Offrtg','Defrtg','Netrtg','Ast Ratio','To Ratio','Efg','Ts','Usg','Pace','Pie']]\u001b[0m\u001b[1;33m\u001b[0m\u001b[1;33m\u001b[0m\u001b[0m\n\u001b[0;32m      5\u001b[0m \u001b[1;31m#sixers_new = sixers[['Player','Team','Netrtg','Ast Ratio','To Ratio','Pie']]\u001b[0m\u001b[1;33m\u001b[0m\u001b[1;33m\u001b[0m\u001b[0m\n",
      "\u001b[1;32m~\\.julia\\packages\\Conda\\hsaaN\\deps\\usr\\lib\\site-packages\\pandas\\io\\parsers.py\u001b[0m in \u001b[0;36mparser_f\u001b[1;34m(filepath_or_buffer, sep, delimiter, header, names, index_col, usecols, squeeze, prefix, mangle_dupe_cols, dtype, engine, converters, true_values, false_values, skipinitialspace, skiprows, nrows, na_values, keep_default_na, na_filter, verbose, skip_blank_lines, parse_dates, infer_datetime_format, keep_date_col, date_parser, dayfirst, iterator, chunksize, compression, thousands, decimal, lineterminator, quotechar, quoting, escapechar, comment, encoding, dialect, tupleize_cols, error_bad_lines, warn_bad_lines, skipfooter, doublequote, delim_whitespace, low_memory, memory_map, float_precision)\u001b[0m\n\u001b[0;32m    676\u001b[0m                     skip_blank_lines=skip_blank_lines)\n\u001b[0;32m    677\u001b[0m \u001b[1;33m\u001b[0m\u001b[0m\n\u001b[1;32m--> 678\u001b[1;33m         \u001b[1;32mreturn\u001b[0m \u001b[0m_read\u001b[0m\u001b[1;33m(\u001b[0m\u001b[0mfilepath_or_buffer\u001b[0m\u001b[1;33m,\u001b[0m \u001b[0mkwds\u001b[0m\u001b[1;33m)\u001b[0m\u001b[1;33m\u001b[0m\u001b[0m\n\u001b[0m\u001b[0;32m    679\u001b[0m \u001b[1;33m\u001b[0m\u001b[0m\n\u001b[0;32m    680\u001b[0m     \u001b[0mparser_f\u001b[0m\u001b[1;33m.\u001b[0m\u001b[0m__name__\u001b[0m \u001b[1;33m=\u001b[0m \u001b[0mname\u001b[0m\u001b[1;33m\u001b[0m\u001b[0m\n",
      "\u001b[1;32m~\\.julia\\packages\\Conda\\hsaaN\\deps\\usr\\lib\\site-packages\\pandas\\io\\parsers.py\u001b[0m in \u001b[0;36m_read\u001b[1;34m(filepath_or_buffer, kwds)\u001b[0m\n\u001b[0;32m    438\u001b[0m \u001b[1;33m\u001b[0m\u001b[0m\n\u001b[0;32m    439\u001b[0m     \u001b[1;31m# Create the parser.\u001b[0m\u001b[1;33m\u001b[0m\u001b[1;33m\u001b[0m\u001b[0m\n\u001b[1;32m--> 440\u001b[1;33m     \u001b[0mparser\u001b[0m \u001b[1;33m=\u001b[0m \u001b[0mTextFileReader\u001b[0m\u001b[1;33m(\u001b[0m\u001b[0mfilepath_or_buffer\u001b[0m\u001b[1;33m,\u001b[0m \u001b[1;33m**\u001b[0m\u001b[0mkwds\u001b[0m\u001b[1;33m)\u001b[0m\u001b[1;33m\u001b[0m\u001b[0m\n\u001b[0m\u001b[0;32m    441\u001b[0m \u001b[1;33m\u001b[0m\u001b[0m\n\u001b[0;32m    442\u001b[0m     \u001b[1;32mif\u001b[0m \u001b[0mchunksize\u001b[0m \u001b[1;32mor\u001b[0m \u001b[0miterator\u001b[0m\u001b[1;33m:\u001b[0m\u001b[1;33m\u001b[0m\u001b[0m\n",
      "\u001b[1;32m~\\.julia\\packages\\Conda\\hsaaN\\deps\\usr\\lib\\site-packages\\pandas\\io\\parsers.py\u001b[0m in \u001b[0;36m__init__\u001b[1;34m(self, f, engine, **kwds)\u001b[0m\n\u001b[0;32m    785\u001b[0m             \u001b[0mself\u001b[0m\u001b[1;33m.\u001b[0m\u001b[0moptions\u001b[0m\u001b[1;33m[\u001b[0m\u001b[1;34m'has_index_names'\u001b[0m\u001b[1;33m]\u001b[0m \u001b[1;33m=\u001b[0m \u001b[0mkwds\u001b[0m\u001b[1;33m[\u001b[0m\u001b[1;34m'has_index_names'\u001b[0m\u001b[1;33m]\u001b[0m\u001b[1;33m\u001b[0m\u001b[0m\n\u001b[0;32m    786\u001b[0m \u001b[1;33m\u001b[0m\u001b[0m\n\u001b[1;32m--> 787\u001b[1;33m         \u001b[0mself\u001b[0m\u001b[1;33m.\u001b[0m\u001b[0m_make_engine\u001b[0m\u001b[1;33m(\u001b[0m\u001b[0mself\u001b[0m\u001b[1;33m.\u001b[0m\u001b[0mengine\u001b[0m\u001b[1;33m)\u001b[0m\u001b[1;33m\u001b[0m\u001b[0m\n\u001b[0m\u001b[0;32m    788\u001b[0m \u001b[1;33m\u001b[0m\u001b[0m\n\u001b[0;32m    789\u001b[0m     \u001b[1;32mdef\u001b[0m \u001b[0mclose\u001b[0m\u001b[1;33m(\u001b[0m\u001b[0mself\u001b[0m\u001b[1;33m)\u001b[0m\u001b[1;33m:\u001b[0m\u001b[1;33m\u001b[0m\u001b[0m\n",
      "\u001b[1;32m~\\.julia\\packages\\Conda\\hsaaN\\deps\\usr\\lib\\site-packages\\pandas\\io\\parsers.py\u001b[0m in \u001b[0;36m_make_engine\u001b[1;34m(self, engine)\u001b[0m\n\u001b[0;32m   1012\u001b[0m     \u001b[1;32mdef\u001b[0m \u001b[0m_make_engine\u001b[0m\u001b[1;33m(\u001b[0m\u001b[0mself\u001b[0m\u001b[1;33m,\u001b[0m \u001b[0mengine\u001b[0m\u001b[1;33m=\u001b[0m\u001b[1;34m'c'\u001b[0m\u001b[1;33m)\u001b[0m\u001b[1;33m:\u001b[0m\u001b[1;33m\u001b[0m\u001b[0m\n\u001b[0;32m   1013\u001b[0m         \u001b[1;32mif\u001b[0m \u001b[0mengine\u001b[0m \u001b[1;33m==\u001b[0m \u001b[1;34m'c'\u001b[0m\u001b[1;33m:\u001b[0m\u001b[1;33m\u001b[0m\u001b[0m\n\u001b[1;32m-> 1014\u001b[1;33m             \u001b[0mself\u001b[0m\u001b[1;33m.\u001b[0m\u001b[0m_engine\u001b[0m \u001b[1;33m=\u001b[0m \u001b[0mCParserWrapper\u001b[0m\u001b[1;33m(\u001b[0m\u001b[0mself\u001b[0m\u001b[1;33m.\u001b[0m\u001b[0mf\u001b[0m\u001b[1;33m,\u001b[0m \u001b[1;33m**\u001b[0m\u001b[0mself\u001b[0m\u001b[1;33m.\u001b[0m\u001b[0moptions\u001b[0m\u001b[1;33m)\u001b[0m\u001b[1;33m\u001b[0m\u001b[0m\n\u001b[0m\u001b[0;32m   1015\u001b[0m         \u001b[1;32melse\u001b[0m\u001b[1;33m:\u001b[0m\u001b[1;33m\u001b[0m\u001b[0m\n\u001b[0;32m   1016\u001b[0m             \u001b[1;32mif\u001b[0m \u001b[0mengine\u001b[0m \u001b[1;33m==\u001b[0m \u001b[1;34m'python'\u001b[0m\u001b[1;33m:\u001b[0m\u001b[1;33m\u001b[0m\u001b[0m\n",
      "\u001b[1;32m~\\.julia\\packages\\Conda\\hsaaN\\deps\\usr\\lib\\site-packages\\pandas\\io\\parsers.py\u001b[0m in \u001b[0;36m__init__\u001b[1;34m(self, src, **kwds)\u001b[0m\n\u001b[0;32m   1706\u001b[0m         \u001b[0mkwds\u001b[0m\u001b[1;33m[\u001b[0m\u001b[1;34m'usecols'\u001b[0m\u001b[1;33m]\u001b[0m \u001b[1;33m=\u001b[0m \u001b[0mself\u001b[0m\u001b[1;33m.\u001b[0m\u001b[0musecols\u001b[0m\u001b[1;33m\u001b[0m\u001b[0m\n\u001b[0;32m   1707\u001b[0m \u001b[1;33m\u001b[0m\u001b[0m\n\u001b[1;32m-> 1708\u001b[1;33m         \u001b[0mself\u001b[0m\u001b[1;33m.\u001b[0m\u001b[0m_reader\u001b[0m \u001b[1;33m=\u001b[0m \u001b[0mparsers\u001b[0m\u001b[1;33m.\u001b[0m\u001b[0mTextReader\u001b[0m\u001b[1;33m(\u001b[0m\u001b[0msrc\u001b[0m\u001b[1;33m,\u001b[0m \u001b[1;33m**\u001b[0m\u001b[0mkwds\u001b[0m\u001b[1;33m)\u001b[0m\u001b[1;33m\u001b[0m\u001b[0m\n\u001b[0m\u001b[0;32m   1709\u001b[0m \u001b[1;33m\u001b[0m\u001b[0m\n\u001b[0;32m   1710\u001b[0m         \u001b[0mpassed_names\u001b[0m \u001b[1;33m=\u001b[0m \u001b[0mself\u001b[0m\u001b[1;33m.\u001b[0m\u001b[0mnames\u001b[0m \u001b[1;32mis\u001b[0m \u001b[1;32mNone\u001b[0m\u001b[1;33m\u001b[0m\u001b[0m\n",
      "\u001b[1;32mpandas\\_libs\\parsers.pyx\u001b[0m in \u001b[0;36mpandas._libs.parsers.TextReader.__cinit__\u001b[1;34m()\u001b[0m\n",
      "\u001b[1;32mpandas\\_libs\\parsers.pyx\u001b[0m in \u001b[0;36mpandas._libs.parsers.TextReader._get_header\u001b[1;34m()\u001b[0m\n",
      "\u001b[1;31mUnicodeDecodeError\u001b[0m: 'utf-8' codec can't decode byte 0xa0 in position 3: invalid start byte"
     ]
    }
   ],
   "source": [
    "sixers = pd.read_csv(\"sixers-advanced.csv\")\n",
    "display(sixers)\n",
    "\n",
    "#sixers_new = sixers[['Player','Team','Offrtg','Defrtg','Netrtg','Ast Ratio','To Ratio','Efg','Ts','Usg','Pace','Pie']]\n",
    "#sixers_new = sixers[['Player','Team','Netrtg','Ast Ratio','To Ratio','Pie']]\n",
    "#display(sixers_new)"
   ]
  },
  {
   "cell_type": "code",
   "execution_count": null,
   "metadata": {
    "scrolled": true
   },
   "outputs": [],
   "source": [
    "old_starters1 = ['Ben Simmons', 'Joel Embiid', 'Markelle Fultz', 'Robert Covington', 'Dario Saric']\n",
    "old_starters2 = ['Ben Simmons', 'Joel Embiid', 'JJ Redick', 'Robert Covington', 'Dario Saric']\n",
    "\n",
    "new_starters1 = ['Ben Simmons', 'Joel Embiid', 'Markelle Fultz', 'Jimmy Butler', 'JJ Redick']\n",
    "new_starters2 = ['Ben Simmons', 'Joel Embiid', 'Landry Shamet', 'Jimmy Butler', 'JJ Redick']\n",
    "new_starters3 = ['Ben Simmons', 'Joel Embiid', 'Landry Shamet', 'Jimmy Butler', 'Mike Muscala']\n",
    "new_starters4 = ['Ben Simmons', 'Joel Embiid', 'Landry Shamet', 'Jimmy Butler', 'Wilson Chandler']\n",
    "new_starters5 = ['Ben Simmons', 'Joel Embiid', 'Markelle Fultz', 'Jimmy Butler', 'Mike Muscala']\n",
    "new_starters6 = ['Ben Simmons', 'Joel Embiid', 'Markelle Fultz', 'Jimmy Butler', 'Wilson Chandler']\n",
    "\n",
    "###################################################################################################\n",
    "##################################################################################################\n",
    "\n",
    "old1 = sixers_new[sixers_new['Player'].isin(old_starters1)]\n",
    "old2 = sixers_new[sixers_new['Player'].isin(old_starters2)]\n",
    "\n",
    "new1 = sixers_new[sixers_new['Player'].isin(new_starters1)]\n",
    "new2 = sixers_new[sixers_new['Player'].isin(new_starters2)]\n",
    "new3 = sixers_new[sixers_new['Player'].isin(new_starters3)]\n",
    "new4 = sixers_new[sixers_new['Player'].isin(new_starters4)]\n",
    "new5 = sixers_new[sixers_new['Player'].isin(new_starters5)]\n",
    "new6 = sixers_new[sixers_new['Player'].isin(new_starters6)]\n"
   ]
  },
  {
   "cell_type": "code",
   "execution_count": null,
   "metadata": {
    "scrolled": true
   },
   "outputs": [],
   "source": [
    "# ------- PART 1: Create background\n",
    " \n",
    "# number of variable\n",
    "categories=list(old1)[2:]\n",
    "#ategories = old_starters1[0:]\n",
    "N = len(categories)\n",
    " \n",
    "# What will be the angle of each axis in the plot? (we divide the plot / number of variable)\n",
    "angles = [n / float(N) * 2 * pi for n in range(N)]\n",
    "angles += angles[:1]\n",
    " \n",
    "# Initialise the spider plot\n",
    "ax = plt.subplot(111, polar=True)\n",
    " \n",
    "# If you want the first axis to be on top:\n",
    "ax.set_theta_offset(pi / 2)\n",
    "ax.set_theta_direction(-1)\n",
    " \n",
    "# Draw one axe per variable + add labels labels yet\n",
    "plt.xticks(angles[:-1], categories)\n",
    " \n",
    "# Draw ylabels\n",
    "ax.set_rlabel_position(0)\n",
    "plt.yticks([0,50,100], [\"0\",\"50\",\"100\"], color=\"grey\", size=7)\n",
    "plt.ylim(0,125)\n",
    "\n",
    "\n",
    "# Ind1\n",
    "values1=old1.groupby('Team').sum().values.flatten().tolist()\n",
    "values1 += values1[:1]\n",
    "ax.plot(angles, values1, linewidth=1.5, linestyle='solid', label =\"Ben, Joel, Markelle, RoCo, Dario\")\n",
    "ax.fill(angles, values1, 'b', alpha=0.05)\n",
    "\n",
    "\n",
    "values2=old2.groupby('Team').sum().values.flatten().tolist()\n",
    "values2 += values2[:1]\n",
    "ax.plot(angles, values2, linewidth=1.5, linestyle='solid', label ='Ben, Joel, JJ, RoCo, Dario')\n",
    "#ax.fill(angles, values2, 'r', alpha=0)\n",
    "\n",
    "values2=new1.groupby('Team').sum().values.flatten().tolist()\n",
    "values2 += values2[:1]\n",
    "ax.plot(angles, values2, linewidth=1.5, linestyle='solid', label ='Ben, Joel, Markelle, Jimmy, JJ')\n",
    "#ax.fill(angles, values2, 'g', alpha=0)\n",
    "\n",
    "values2=new2.groupby('Team').sum().values.flatten().tolist()\n",
    "values2 += values2[:1]\n",
    "ax.plot(angles, values2, linewidth=1.5, linestyle='solid', label ='Ben, Joel, Landry, Jimmy, JJ')\n",
    "#ax.fill(angles, values2, 'p', alpha=0)\n",
    "\n",
    "values2=new3.groupby('Team').sum().values.flatten().tolist()\n",
    "values2 += values2[:1]\n",
    "ax.plot(angles, values2, linewidth=1.5, linestyle='solid', label ='Ben, Joel, Landry, Jimmy, Muscala')\n",
    "#ax.fill(angles, values2, 'p', alpha=0)\n",
    "\n",
    "values2=new4.groupby('Team').sum().values.flatten().tolist()\n",
    "values2 += values2[:1]\n",
    "ax.plot(angles, values2, linewidth=1.5, linestyle='solid', label ='Ben, Joel, Landry, Jimmy, Wilson')\n",
    "#ax.fill(angles, values2, 'p', alpha=0)\n",
    "\n",
    "values2=new5.groupby('Team').sum().values.flatten().tolist()\n",
    "values2 += values2[:1]\n",
    "ax.plot(angles, values2, linewidth=1.5, linestyle='solid', label ='Ben, Joel, Markelle, Jimmy, Muscala')\n",
    "#ax.fill(angles, values2, 'p', alpha=0)\n",
    "\n",
    "values2=new6.groupby('Team').sum().values.flatten().tolist()\n",
    "values2 += values2[:1]\n",
    "ax.plot(angles, values2, linewidth=1.5, linestyle='solid', label ='Ben, Joel, Markelle, Jimmy, Wilson')\n",
    "#ax.fill(angles, values2, 'p', alpha=0)\n",
    "\n",
    "# Add legend\n",
    "plt.legend(loc='upper right', bbox_to_anchor=(0.1, 0.1))\n",
    "\n"
   ]
  },
  {
   "cell_type": "code",
   "execution_count": null,
   "metadata": {},
   "outputs": [],
   "source": [
    "sixers_shooting = pd.read_csv(\"sixers_shooting.csv\")\n",
    "sixers_shooting"
   ]
  }
 ],
 "metadata": {
  "kernelspec": {
   "display_name": "Python 3",
   "language": "python",
   "name": "python3"
  },
  "language_info": {
   "codemirror_mode": {
    "name": "ipython",
    "version": 3
   },
   "file_extension": ".py",
   "mimetype": "text/x-python",
   "name": "python",
   "nbconvert_exporter": "python",
   "pygments_lexer": "ipython3",
   "version": "3.6.5"
  }
 },
 "nbformat": 4,
 "nbformat_minor": 2
}
